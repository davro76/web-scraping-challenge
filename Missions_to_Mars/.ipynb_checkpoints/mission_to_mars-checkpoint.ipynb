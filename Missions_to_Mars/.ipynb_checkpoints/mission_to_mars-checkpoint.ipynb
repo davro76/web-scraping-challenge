{
 "cells": [
  {
   "cell_type": "code",
   "execution_count": 1,
   "metadata": {},
   "outputs": [],
   "source": [
    "# Dependencies\n",
    "from bs4 import BeautifulSoup as bs\n",
    "import requests\n",
    "import pymongo\n",
    "from splinter import Browser\n",
    "from splinter import Browser\n",
    "from flask import Flask, render_template, redirect\n",
    "from flask_pymongo import PyMongo\n",
    "import pandas as pd\n",
    "import time\n",
    "from webdriver_manager.chrome import ChromeDriverManager"
   ]
  },
  {
   "cell_type": "markdown",
   "metadata": {},
   "source": [
    "# NASA Mars News"
   ]
  },
  {
   "cell_type": "code",
   "execution_count": 4,
   "metadata": {
    "scrolled": true
   },
   "outputs": [
    {
     "name": "stderr",
     "output_type": "stream",
     "text": [
      "\n",
      "\n",
      "====== WebDriver manager ======\n",
      "Current google-chrome version is 91.0.4472\n",
      "Get LATEST driver version for 91.0.4472\n",
      "Driver [/Users/rodneydavermann/.wdm/drivers/chromedriver/mac64/91.0.4472.101/chromedriver] found in cache\n"
     ]
    },
    {
     "name": "stdout",
     "output_type": "stream",
     "text": [
      "news_title=\"NASA's Mars 2020 Heads Into the Test Chamber\"\n",
      "news_p=\"In this time-lapse video taken at JPL, engineers move the Mars 2020 rover into a large vacuum chamber for testing in Mars-like environmental conditions.\"\n"
     ]
    }
   ],
   "source": [
    "# Executable path to driver\n",
    "executable_path={\"executable_path\":ChromeDriverManager().install()}\n",
    "browser=Browser(\"chrome\",**executable_path,headless=False)\n",
    "time.sleep(1)\n",
    "\n",
    "# URL to scrap data from\n",
    "url=\"https://redplanetscience.com/\"\n",
    "browser.visit(url)\n",
    "\n",
    "# Create a HTML object \n",
    "html_page = browser.html\n",
    "\n",
    "# Parsing the html_page with BeautifulSoup \n",
    "soup_page = bs(html_page, 'html.parser')\n",
    "\n",
    "# Grab and display the latest News Title and Paragraph Text\n",
    "NASA_soups = soup_page.find_all('div', id='news')\n",
    "for NASA_soup in NASA_soups:\n",
    "\n",
    "    news_title = soup_page.find(\"div\",class_=\"content_title\").get_text()\n",
    "    news_p = soup_page.find(\"div\",class_=\"article_teaser_body\").get_text()\n",
    "    print(f'news_title=\"{news_title}\"')\n",
    "    print(f'news_p=\"{news_p}\"')"
   ]
  },
  {
   "cell_type": "markdown",
   "metadata": {},
   "source": [
    "#  JPL Mars Space Images - Featured Image"
   ]
  },
  {
   "cell_type": "code",
   "execution_count": 7,
   "metadata": {},
   "outputs": [
    {
     "name": "stderr",
     "output_type": "stream",
     "text": [
      "\n",
      "\n",
      "====== WebDriver manager ======\n",
      "Current google-chrome version is 91.0.4472\n",
      "Get LATEST driver version for 91.0.4472\n",
      "Driver [/Users/rodneydavermann/.wdm/drivers/chromedriver/mac64/91.0.4472.101/chromedriver] found in cache\n"
     ]
    },
    {
     "name": "stdout",
     "output_type": "stream",
     "text": [
      "featured_image_url='https://spaceimages-mars.com/image/featured/mars3.jpg'\n"
     ]
    }
   ],
   "source": [
    "# Executable path to driver\n",
    "executable_path={\"executable_path\":ChromeDriverManager().install()}\n",
    "browser=Browser(\"chrome\",**executable_path,headless=False)\n",
    "time.sleep(2)\n",
    "\n",
    "# URL to scrap image from\n",
    "url=\"https://spaceimages-mars.com\"\n",
    "browser.visit(url)\n",
    "\n",
    "# Create a .jpg image  \n",
    "Image_page = browser.html\n",
    "\n",
    "# Parsing the Image_page with BeautifulSoup \n",
    "soup_image = bs(Image_page, 'html.parser')\n",
    "\n",
    "# Find the image url and assign the url string to a variable called featured_image_url\n",
    "NASA_images = soup_image.find_all('div', class_='floating_text_area')\n",
    "\n",
    "for NASA_image in NASA_images:\n",
    "    \n",
    "    #get the anchor tag 'a'\n",
    "    NASA_image_link = NASA_image.find('a')\n",
    "    \n",
    "    #get the reference 'href'\n",
    "    NASA_image_url = NASA_image_link[\"href\"]\n",
    "    \n",
    "    print(f\"featured_image_url='https://spaceimages-mars.com/{NASA_image_url}'\")"
   ]
  },
  {
   "cell_type": "markdown",
   "metadata": {},
   "source": [
    "#  Mars Facts"
   ]
  },
  {
   "cell_type": "code",
   "execution_count": null,
   "metadata": {},
   "outputs": [],
   "source": []
  }
 ],
 "metadata": {
  "kernelspec": {
   "display_name": "Python 3",
   "language": "python",
   "name": "python3"
  },
  "language_info": {
   "codemirror_mode": {
    "name": "ipython",
    "version": 3
   },
   "file_extension": ".py",
   "mimetype": "text/x-python",
   "name": "python",
   "nbconvert_exporter": "python",
   "pygments_lexer": "ipython3",
   "version": "3.8.5"
  }
 },
 "nbformat": 4,
 "nbformat_minor": 4
}
