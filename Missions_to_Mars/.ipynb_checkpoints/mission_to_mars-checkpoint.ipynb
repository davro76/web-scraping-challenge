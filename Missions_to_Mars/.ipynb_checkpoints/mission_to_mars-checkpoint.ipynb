{
 "cells": [
  {
   "cell_type": "code",
   "execution_count": null,
   "metadata": {},
   "outputs": [],
   "source": [
    "# Install flask_pymongo\n",
    "pip install flask_pymongo"
   ]
  },
  {
   "cell_type": "code",
   "execution_count": 8,
   "metadata": {},
   "outputs": [],
   "source": [
    "# Dependencies\n",
    "from bs4 import BeautifulSoup as bs\n",
    "import requests\n",
    "import pymongo\n",
    "from splinter import Browser\n",
    "from flask import Flask, render_template, redirect\n",
    "from flask_pymongo import PyMongo\n",
    "import pandas as pd\n",
    "import time\n",
    "from webdriver_manager.chrome import ChromeDriverManager"
   ]
  },
  {
   "cell_type": "code",
   "execution_count": 10,
   "metadata": {
    "scrolled": true
   },
   "outputs": [
    {
     "name": "stderr",
     "output_type": "stream",
     "text": [
      "\n",
      "\n",
      "====== WebDriver manager ======\n",
      "Current google-chrome version is 91.0.4472\n",
      "Get LATEST driver version for 91.0.4472\n",
      "Driver [/Users/rodneydavermann/.wdm/drivers/chromedriver/mac64/91.0.4472.101/chromedriver] found in cache\n"
     ]
    }
   ],
   "source": [
    "# Executable path to driver\n",
    "executable_path = {\"executable_path\": '/usr/local/bin/chromedriver'}\n",
    "browser = Browser(\"chrome\", **executable_path, headless=False)\n",
    "time.sleep(1)"
   ]
  },
  {
   "cell_type": "markdown",
   "metadata": {},
   "source": [
    "# NASA Mars News"
   ]
  },
  {
   "cell_type": "code",
   "execution_count": null,
   "metadata": {},
   "outputs": [],
   "source": [
    "# Download the web page and \n",
    "    # URL of page to be scraped\n",
    "    url = 'https://mars.nasa.gov/news/'\n",
    "    browser.visit(url)\n",
    "    html = browser.html\n",
    "    # Create a BeautifulSoup object\n",
    "    soup_page = bs(html,'html.parser')\n",
    "    \n",
    "    \n",
    "# Scrape the latest News Title and Paragraph Text\n",
    "\n",
    "    news_title = soup.find(\"div\", class_=\"content_title\").text.strip()\n",
    "    news_paragraph = soup.find(\"div\", class_ = \"article_teaser_body\").text.strip()\n",
    "\n",
    "# Display scrapped news \n",
    "print(news_title)\n",
    "print(\"-----------------------------------------\")\n",
    "print(news_paragraph)\n",
    "    \n",
    "# Retrieve the latest news title\n",
    "    #news_title = soup_page.find_all('div', class_='content_title')[0].text\n",
    "# Retrieve the latest news paragraph\n",
    "    #news_p = soup_page.find_all('div', class_='rollover_description_inner')[0].text\n",
    "\n",
    "    \n",
    "    \n",
    "\n",
    "\n",
    "\n",
    "# soup.find_all('p')[0].get_text()\n"
   ]
  },
  {
   "cell_type": "code",
   "execution_count": null,
   "metadata": {},
   "outputs": [],
   "source": [
    "\n",
    "soup = bs(NASA_page.content, 'html.parser')\n",
    "soup\n",
    "#soup=bs(html,'html.parser')\n",
    "# Retrieve the latest news title\n",
    "#NASA_page_news_title = soup.find('div', class_='content_title').text.strip()\n",
    "                    \n",
    "    # Retrieve the latest news paragraph\n",
    "    #news_p=soup.find_all('div', class_='rollover_description_inner')[0].text"
   ]
  },
  {
   "cell_type": "code",
   "execution_count": null,
   "metadata": {},
   "outputs": [],
   "source": [
    "soup=bs(html,'html.parser')\n",
    "news_title = soup.find(\"div\", class_=\"content_title\").text.strip()\n",
    "news_paragraph = soup.find(\"div\", class_ = \"article_teaser_body\").text.strip()\n",
    "\n",
    "# Display scrapped news \n",
    "print(news_title)\n",
    "print(\"-----------------------------------------\")\n",
    "print(news_paragraph)"
   ]
  },
  {
   "cell_type": "code",
   "execution_count": null,
   "metadata": {},
   "outputs": [],
   "source": [
    "# print the web page nicely\n",
    "NASA_page_soup = bs(NASA_page.content, 'html.parser')\n",
    "print(NASA_page_soup.prettify())"
   ]
  },
  {
   "cell_type": "code",
   "execution_count": null,
   "metadata": {},
   "outputs": [],
   "source": [
    "# Retrieve the latest news title\n",
    "news_title = NASA_page_soup.find(\"div\", class_=\"content_title\").text.strip()\n",
    "news_paragraph = NASA_page_soup.find(\"div\", class_ = \"article_teaser_body\").text.strip()"
   ]
  },
  {
   "cell_type": "code",
   "execution_count": null,
   "metadata": {},
   "outputs": [],
   "source": []
  }
 ],
 "metadata": {
  "kernelspec": {
   "display_name": "Python 3",
   "language": "python",
   "name": "python3"
  },
  "language_info": {
   "codemirror_mode": {
    "name": "ipython",
    "version": 3
   },
   "file_extension": ".py",
   "mimetype": "text/x-python",
   "name": "python",
   "nbconvert_exporter": "python",
   "pygments_lexer": "ipython3",
   "version": "3.8.5"
  }
 },
 "nbformat": 4,
 "nbformat_minor": 4
}
